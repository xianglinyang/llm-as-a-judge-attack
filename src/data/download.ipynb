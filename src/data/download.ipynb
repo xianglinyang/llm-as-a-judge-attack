{
 "cells": [
  {
   "cell_type": "code",
   "execution_count": 1,
   "metadata": {},
   "outputs": [],
   "source": [
    "import os\n",
    "os.environ[\"HF_HOME\"] = \"/mnt/hdd1/ljiahao/xianglin/cache/huggingface\""
   ]
  },
  {
   "cell_type": "code",
   "execution_count": 2,
   "metadata": {},
   "outputs": [],
   "source": [
    "raw_path = \"/mnt/hdd1/ljiahao/xianglin/llm-as-a-judge-attack/raw\"\n",
    "data_path = \"/mnt/hdd1/ljiahao/xianglin/llm-as-a-judge-attack/data\""
   ]
  },
  {
   "cell_type": "code",
   "execution_count": 3,
   "metadata": {},
   "outputs": [],
   "source": [
    "import json\n",
    "import os"
   ]
  },
  {
   "cell_type": "markdown",
   "metadata": {},
   "source": [
    "# Format\n",
    "1. download data to raw data path, or huggingface default path\n",
    "2. save metadata.json to data_path, including keys: instruction, (category), others\n",
    "3. save completion json to data_path/model_name.json, including keys: instruction, output,\n"
   ]
  },
  {
   "cell_type": "markdown",
   "metadata": {},
   "source": [
    "# MT Bench"
   ]
  },
  {
   "cell_type": "code",
   "execution_count": null,
   "metadata": {},
   "outputs": [],
   "source": [
    "!cd raw_path\n",
    "!git clone https://huggingface.co/spaces/lmsys/mt-bench"
   ]
  },
  {
   "cell_type": "code",
   "execution_count": null,
   "metadata": {},
   "outputs": [],
   "source": [
    "path = f\"{raw_path}/mt-bench/data/mt_bench/question.jsonl\"\n",
    "import json\n",
    "\n",
    "# load jsonl\n",
    "questions = []\n",
    "with open(path, \"r\") as f:\n",
    "    for line in f:\n",
    "        data = json.loads(line)\n",
    "        questions.append(data)\n",
    "questions[0]"
   ]
  },
  {
   "cell_type": "code",
   "execution_count": null,
   "metadata": {},
   "outputs": [],
   "source": [
    "# save metadata to data\n",
    "mt_bench_path = os.path.join(data_path, \"MTBench\")\n",
    "os.makedirs(mt_bench_path, exist_ok=True)\n",
    "save_path = os.path.join(mt_bench_path, \"metadata.json\")\n",
    "\n",
    "metadata = list()\n",
    "for question in questions:\n",
    "    metadata.append({\n",
    "        \"question_id\": question['question_id'],\n",
    "        \"instruction\": question['turns'][0],\n",
    "        \"original_category\": question['category'],\n",
    "    })\n",
    "\n",
    "# save metadata to data\n",
    "with open(save_path, \"w\") as f:\n",
    "    json.dump(metadata, f)\n",
    "metadata[0]"
   ]
  },
  {
   "cell_type": "code",
   "execution_count": null,
   "metadata": {},
   "outputs": [],
   "source": [
    "# load model answer\n",
    "answer_dir = os.path.join(raw_path, \"mt-bench/data/mt_bench/model_answer\")\n",
    "files = os.listdir(answer_dir)\n",
    "\n",
    "for file in files:\n",
    "    model_name = file.split(\".\")[0]\n",
    "\n",
    "    # load model answer\n",
    "    path = os.path.join(answer_dir, file)\n",
    "    answers = list()\n",
    "    with open(path, \"r\") as f:\n",
    "        for line in f:\n",
    "            data = json.loads(line)\n",
    "            answers.append(data)\n",
    "    \n",
    "    new_dataset = list()\n",
    "    for answer in answers:\n",
    "        for question in questions:\n",
    "            if answer['question_id'] == question['question_id']:\n",
    "                new_item = {\n",
    "                    \"instruction\": question['turns'][0],\n",
    "                    \"output\": answer['choices'][0]['turns'][0],\n",
    "                    \"original_category\": question['category'],\n",
    "                }\n",
    "                new_dataset.append(new_item)\n",
    "    \n",
    "    print(model_name)\n",
    "    print(new_dataset[0])\n",
    "    print(\"-\"*100)\n",
    "    # save new dataset\n",
    "    save_path = os.path.join(mt_bench_path, f\"{model_name}.json\")\n",
    "    with open(save_path, \"w\") as f:\n",
    "        json.dump(new_dataset, f)\n"
   ]
  },
  {
   "cell_type": "markdown",
   "metadata": {},
   "source": [
    "# AlpacaEval"
   ]
  },
  {
   "cell_type": "code",
   "execution_count": null,
   "metadata": {},
   "outputs": [],
   "source": [
    "!cd raw_path\n",
    "!git clone https://github.com/tatsu-lab/alpaca_eval.git"
   ]
  },
  {
   "cell_type": "code",
   "execution_count": 18,
   "metadata": {},
   "outputs": [],
   "source": [
    "path = os.path.join(raw_path, \"alpaca_eval\", \"results\", \"NullModel\", \"model_outputs.json\")\n",
    "\n",
    "# load jsonl\n",
    "with open(path, \"r\") as f:\n",
    "    data = json.load(f)\n"
   ]
  },
  {
   "cell_type": "code",
   "execution_count": null,
   "metadata": {},
   "outputs": [],
   "source": [
    "alpaca_path = os.path.join(data_path, \"AlpacaEval\")\n",
    "os.makedirs(alpaca_path, exist_ok=True)\n",
    "\n",
    "save_path = os.path.join(alpaca_path, \"metadata.json\")\n",
    "metadata = list()\n",
    "for item in data:\n",
    "    metadata.append({\n",
    "        \"instruction\": item[\"instruction\"],\n",
    "        \"dataset\": item[\"dataset\"]\n",
    "    })\n",
    "\n",
    "with open(save_path, \"w\") as f:\n",
    "    json.dump(metadata, f)\n",
    "\n",
    "# Show example element\n",
    "metadata[0]"
   ]
  },
  {
   "cell_type": "code",
   "execution_count": null,
   "metadata": {},
   "outputs": [],
   "source": [
    "result_dir = os.path.join(raw_path, \"alpaca_eval\", \"results\")\n",
    "dirs = os.listdir(result_dir)\n",
    "\n",
    "for dir in dirs:\n",
    "    path = os.path.join(result_dir, dir, \"model_outputs.json\")\n",
    "    with open(path, \"r\") as f:\n",
    "        data = json.load(f)\n",
    "    new_dataset = list()\n",
    "    for item in data:\n",
    "        new_dataset.append({\n",
    "            \"instruction\": item[\"instruction\"],\n",
    "            \"output\": item[\"output\"]\n",
    "        })\n",
    "    print(dir)\n",
    "    print(new_dataset[0])\n",
    "    print(\"-\"*100)\n",
    "    \n",
    "    save_path = os.path.join(alpaca_path, f\"{dir}.json\")\n",
    "    with open(save_path, \"w\") as f:\n",
    "        json.dump(new_dataset, f)"
   ]
  },
  {
   "cell_type": "markdown",
   "metadata": {},
   "source": [
    "# ArenaHard 2.0"
   ]
  },
  {
   "cell_type": "code",
   "execution_count": null,
   "metadata": {},
   "outputs": [],
   "source": [
    "! git clone https://github.com/lmarena/arena-hard-auto.git"
   ]
  },
  {
   "cell_type": "code",
   "execution_count": null,
   "metadata": {},
   "outputs": [],
   "source": [
    "import json\n",
    "import os\n",
    "\n",
    "save_dir = os.path.join(raw_path, \"arena-hard-auto\", \"data\", \"arena-hard-v2.0\")\n",
    "\n",
    "questions = list()\n",
    "with open(os.path.join(save_dir, \"question.jsonl\"), \"r\") as f:\n",
    "    for line in f:\n",
    "        data = json.loads(line)\n",
    "        questions.append(data)\n",
    "\n",
    "# Example element\n",
    "questions[0]"
   ]
  },
  {
   "cell_type": "code",
   "execution_count": null,
   "metadata": {},
   "outputs": [],
   "source": [
    "# save metadata\n",
    "arena_hard_path = os.path.join(data_path, \"ArenaHard\")\n",
    "os.makedirs(arena_hard_path, exist_ok=True)\n",
    "\n",
    "save_path = os.path.join(arena_hard_path, \"metadata.json\")\n",
    "metadata = list()\n",
    "for question in questions:\n",
    "    metadata.append({\n",
    "        \"instruction\": question[\"prompt\"],\n",
    "        \"original_category\": question[\"category\"],\n",
    "        \"original_subcategory\": question[\"subcategory\"],\n",
    "        \"uid\": question[\"uid\"],\n",
    "    })\n",
    "\n",
    "with open(save_path, \"w\") as f:\n",
    "    json.dump(metadata, f)\n",
    "\n",
    "# Example element\n",
    "print(\"Example element:\")\n",
    "metadata[0]\n",
    "\n",
    "\n"
   ]
  },
  {
   "cell_type": "code",
   "execution_count": null,
   "metadata": {},
   "outputs": [],
   "source": [
    "answers_dir = os.path.join(raw_path, \"arena-hard-auto\", \"data\", \"arena-hard-v2.0\", \"model_answer\")\n",
    "\n",
    "files = os.listdir(answers_dir)\n",
    "files\n",
    "    "
   ]
  },
  {
   "cell_type": "code",
   "execution_count": null,
   "metadata": {},
   "outputs": [],
   "source": [
    "answers_dict = dict()\n",
    "\n",
    "for file in files:\n",
    "    model_name = file[:-6]\n",
    "    path = os.path.join(answers_dir, file)\n",
    "\n",
    "    answers = list()\n",
    "    with open(path, \"r\") as f:\n",
    "        for line in f:\n",
    "            data = json.loads(line)\n",
    "            answers.append(data)\n",
    "    \n",
    "    # show answers example\n",
    "    print(answers[0])\n",
    "    \n",
    "    answers_dict[model_name] = answers"
   ]
  },
  {
   "cell_type": "code",
   "execution_count": null,
   "metadata": {},
   "outputs": [],
   "source": [
    "# show answers example\n",
    "answers_dict[\"o3-mini-2025-01-31\"][0]"
   ]
  },
  {
   "cell_type": "code",
   "execution_count": null,
   "metadata": {},
   "outputs": [],
   "source": [
    "# zip with uid\n",
    "uid_to_question = dict()\n",
    "for item in metadata:\n",
    "    uid_to_question[item[\"uid\"]] = item[\"instruction\"]\n",
    "\n",
    "for file in files:\n",
    "    model_name = file[:-6]\n",
    "    answers = answers_dict[model_name]\n",
    "    print(model_name)\n",
    "    print(len(answers))\n",
    "    \n",
    "    new_dataset = list()\n",
    "    for answer in answers:\n",
    "        item = {\n",
    "            \"instruction\": uid_to_question[answer[\"uid\"]],\n",
    "            \"output\": answer['messages'][-1]['content']['answer']\n",
    "        }\n",
    "        new_dataset.append(item)\n",
    "    \n",
    "    print(\"Example Element:\")\n",
    "    print(new_dataset[0])\n",
    "        \n",
    "    save_path = os.path.join(arena_hard_path, f\"{model_name}.json\")\n",
    "    with open(save_path, \"w\") as f:\n",
    "        json.dump(new_dataset, f)\n",
    "\n"
   ]
  },
  {
   "cell_type": "markdown",
   "metadata": {},
   "source": [
    "# Subjective Dataset:\n",
    "1. yleo/emerton_dpo_pairs_judge\n",
    "2. Intel/orca_dpo_pairs\n",
    "3. jondurbin/py-dpo-v0.1\n",
    "4. jondurbin/truthy-dpo-v0.1"
   ]
  },
  {
   "cell_type": "code",
   "execution_count": null,
   "metadata": {},
   "outputs": [],
   "source": [
    "from datasets import load_dataset\n",
    "ds = load_dataset(\"yleo/emerton_dpo_pairs_judge\")"
   ]
  },
  {
   "cell_type": "code",
   "execution_count": null,
   "metadata": {},
   "outputs": [],
   "source": [
    "emerton_dpo_path = os.path.join(data_path, \"EmertonDPO\")\n",
    "os.makedirs(emerton_dpo_path, exist_ok=True)\n",
    "save_path = os.path.join(emerton_dpo_path, \"metadata.json\")\n",
    "\n",
    "metadata = list()\n",
    "for item in ds['train']:\n",
    "    metadata.append({\n",
    "        \"instruction\": item['input'],\n",
    "        \"category\": \"subjective\",\n",
    "    })\n",
    "\n",
    "with open(save_path, \"w\") as f:\n",
    "    json.dump(metadata, f)\n",
    "metadata[0]"
   ]
  },
  {
   "cell_type": "code",
   "execution_count": null,
   "metadata": {},
   "outputs": [],
   "source": [
    "ds = load_dataset(\"Intel/orca_dpo_pairs\")\n",
    "ds"
   ]
  },
  {
   "cell_type": "code",
   "execution_count": null,
   "metadata": {},
   "outputs": [],
   "source": [
    "orca_dpo_path = os.path.join(data_path, \"OrcaDPO\")\n",
    "os.makedirs(orca_dpo_path, exist_ok=True)\n",
    "save_path = os.path.join(orca_dpo_path, \"metadata.json\")\n",
    "\n",
    "metadata = list()\n",
    "for item in ds['train']:\n",
    "    metadata.append({\n",
    "        \"instruction\": item['question'],\n",
    "        \"category\": \"subjective\",\n",
    "    })\n",
    "\n",
    "with open(save_path, \"w\") as f:\n",
    "    json.dump(metadata, f)\n",
    "metadata[0]"
   ]
  },
  {
   "cell_type": "code",
   "execution_count": null,
   "metadata": {},
   "outputs": [],
   "source": [
    "ds = load_dataset(\"jondurbin/py-dpo-v0.1\")\n",
    "ds"
   ]
  },
  {
   "cell_type": "code",
   "execution_count": null,
   "metadata": {},
   "outputs": [],
   "source": [
    "py_dpo_path = os.path.join(data_path, \"PyDPO\")\n",
    "os.makedirs(py_dpo_path, exist_ok=True)\n",
    "save_path = os.path.join(py_dpo_path, \"metadata.json\")\n",
    "\n",
    "metadata = list()\n",
    "for item in ds['train']:\n",
    "    metadata.append({\n",
    "        \"instruction\": item['prompt'],\n",
    "        \"category\": \"subjective\",\n",
    "        \"id\": item['id'],\n",
    "    })\n",
    "\n",
    "with open(save_path, \"w\") as f:\n",
    "    json.dump(metadata, f)\n",
    "metadata[0]"
   ]
  },
  {
   "cell_type": "code",
   "execution_count": null,
   "metadata": {},
   "outputs": [],
   "source": [
    "ds = load_dataset(\"jondurbin/truthy-dpo-v0.1\")\n",
    "ds"
   ]
  },
  {
   "cell_type": "code",
   "execution_count": null,
   "metadata": {},
   "outputs": [],
   "source": [
    "truthy_dpo_path = os.path.join(data_path, \"TruthyDPO\")\n",
    "os.makedirs(truthy_dpo_path, exist_ok=True)\n",
    "save_path = os.path.join(truthy_dpo_path, \"metadata.json\")\n",
    "\n",
    "metadata = list()\n",
    "for item in ds['train']:\n",
    "    metadata.append({\n",
    "        \"instruction\": item['prompt'],\n",
    "        \"category\": \"subjective\",\n",
    "        \"id\": item['id'],\n",
    "    })\n",
    "\n",
    "with open(save_path, \"w\") as f:\n",
    "    json.dump(metadata, f)\n",
    "metadata[0]"
   ]
  },
  {
   "cell_type": "markdown",
   "metadata": {},
   "source": [
    "Objective Dataset: MMLU Pro"
   ]
  },
  {
   "cell_type": "code",
   "execution_count": null,
   "metadata": {},
   "outputs": [],
   "source": [
    "from datasets import load_dataset\n",
    "\n",
    "# Login using e.g. `huggingface-cli login` to access this dataset\n",
    "ds = load_dataset(\"TIGER-Lab/MMLU-Pro\")\n",
    "ds"
   ]
  },
  {
   "cell_type": "code",
   "execution_count": null,
   "metadata": {},
   "outputs": [],
   "source": [
    "mmlu_pro_validation_path = os.path.join(data_path, \"MMLUPro\", \"validation\")\n",
    "os.makedirs(mmlu_pro_validation_path, exist_ok=True)\n",
    "save_path = os.path.join(mmlu_pro_validation_path, \"metadata.json\")\n",
    "\n",
    "metadata = list()\n",
    "for item in ds['validation']:\n",
    "    metadata.append({\n",
    "        \"instruction\": item['question'],\n",
    "        \"answer\": item['answer'],\n",
    "        \"category\": item['category'],\n",
    "    })\n",
    "\n",
    "with open(save_path, \"w\") as f:\n",
    "    json.dump(metadata, f)\n",
    "metadata[0]"
   ]
  },
  {
   "cell_type": "code",
   "execution_count": null,
   "metadata": {},
   "outputs": [],
   "source": [
    "mmlu_pro_test_path = os.path.join(data_path, \"MMLUPro\", \"test\")\n",
    "os.makedirs(mmlu_pro_test_path, exist_ok=True)\n",
    "save_path = os.path.join(mmlu_pro_test_path, \"metadata.json\")\n",
    "\n",
    "metadata = list()\n",
    "for item in ds['test']:\n",
    "    metadata.append({\n",
    "        \"instruction\": item['question'],\n",
    "        \"answer\": item['answer'],\n",
    "        \"category\": item['category'],\n",
    "    })\n",
    "\n",
    "with open(save_path, \"w\") as f:\n",
    "    json.dump(metadata, f)\n",
    "metadata[0]"
   ]
  },
  {
   "cell_type": "markdown",
   "metadata": {},
   "source": [
    "# MLR Bench"
   ]
  },
  {
   "cell_type": "code",
   "execution_count": null,
   "metadata": {},
   "outputs": [],
   "source": [
    "raw_data_path = os.path.join(raw_path, \"mlrbench\")\n",
    "task_path = os.path.join(raw_data_path, \"tasks\")\n",
    "\n",
    "os.listdir(task_path)"
   ]
  },
  {
   "cell_type": "code",
   "execution_count": 19,
   "metadata": {},
   "outputs": [],
   "source": [
    "# task description\n",
    "\n",
    "task_prompt_template = \"\"\"You are an excellent machine learning researcher. You are given a task description of a research topic.\n",
    "Please generate innovative and practical ideas and write a research paper based on the task description.\n",
    "\n",
    "{task_description}\n",
    "\"\"\""
   ]
  },
  {
   "cell_type": "code",
   "execution_count": null,
   "metadata": {},
   "outputs": [],
   "source": [
    "mlrbench_path = os.path.join(data_path, \"mlrbench\")\n",
    "os.makedirs(mlrbench_path, exist_ok=True)\n",
    "save_path = os.path.join(mlrbench_path, \"metadata.json\")\n",
    "\n",
    "metadata = list()\n",
    "for file in os.listdir(task_path):\n",
    "    # read the md file\n",
    "    with open(os.path.join(task_path, file), \"r\") as f:\n",
    "        data = f.read()\n",
    "    metadata.append({\n",
    "        \"instruction\": task_prompt_template.format(task_description=data),\n",
    "        \"workshop\": f\"{file[:-3]}\",\n",
    "        \"category\": \"writing\",\n",
    "    })\n",
    "\n",
    "with open(save_path, \"w\") as f:\n",
    "    json.dump(metadata, f)\n",
    "metadata[0]"
   ]
  },
  {
   "cell_type": "code",
   "execution_count": null,
   "metadata": {},
   "outputs": [],
   "source": [
    "# get all the ready completion\n",
    "answers_dir = os.path.join(raw_data_path, \"agent_results\")\n",
    "\n",
    "answers_dirs = [file.replace(\"end2end_\", \"\") for file in os.listdir(answers_dir) if file.startswith(\"end2end_\")]\n",
    "answers_dirs\n"
   ]
  },
  {
   "cell_type": "code",
   "execution_count": null,
   "metadata": {},
   "outputs": [],
   "source": [
    "# zip with uid\n",
    "map_to_question = dict()\n",
    "for item in metadata:\n",
    "    map_to_question[item[\"workshop\"]] = item[\"instruction\"]\n",
    "\n",
    "for answer_dir in answers_dirs:\n",
    "    workshop_names = os.listdir(os.path.join(answers_dir, \"end2end_\"+answer_dir))\n",
    "    # remove file and keep dir\n",
    "    workshop_names = [name for name in workshop_names if os.path.isdir(os.path.join(answers_dir, \"end2end_\"+answer_dir, name))]\n",
    "\n",
    "    new_dataset = list()\n",
    "    for workshop_name in workshop_names:\n",
    "        paper_path = os.path.join(answers_dir, \"end2end_\"+answer_dir, workshop_name, \"results\", \"paper.md\")\n",
    "        with open(paper_path, \"r\") as f:\n",
    "            paper = f.read()\n",
    "        new_dataset.append({\n",
    "            \"instruction\": map_to_question[workshop_name],\n",
    "            \"workshop\": workshop_name,\n",
    "            \"output\": paper\n",
    "        })\n",
    "    print(\"Example Element:\")\n",
    "    print(new_dataset[0])\n",
    "        \n",
    "    save_path = os.path.join(mlrbench_path, f\"{answer_dir}.json\")\n",
    "    with open(save_path, \"w\") as f:\n",
    "        json.dump(new_dataset, f)"
   ]
  },
  {
   "cell_type": "code",
   "execution_count": 26,
   "metadata": {},
   "outputs": [],
   "source": [
    "# Get the score from the dataset\n",
    "review_path = os.path.join(raw_path, \"mlrbench\", \"agent_reviews\")\n",
    "\n",
    "claude_response_path = os.path.join(review_path, \"subset_reviews_claude-3-7-sonnet-20250219\")\n",
    "gemini_response_path = os.path.join(review_path, \"subset_reviews_gemini-2.5-pro-preview\")\n"
   ]
  }
 ],
 "metadata": {
  "kernelspec": {
   "display_name": "llm",
   "language": "python",
   "name": "python3"
  },
  "language_info": {
   "codemirror_mode": {
    "name": "ipython",
    "version": 3
   },
   "file_extension": ".py",
   "mimetype": "text/x-python",
   "name": "python",
   "nbconvert_exporter": "python",
   "pygments_lexer": "ipython3",
   "version": "3.10.12"
  }
 },
 "nbformat": 4,
 "nbformat_minor": 2
}
