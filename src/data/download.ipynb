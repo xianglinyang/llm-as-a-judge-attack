{
 "cells": [
  {
   "cell_type": "code",
   "execution_count": 1,
   "metadata": {},
   "outputs": [],
   "source": [
    "import os\n",
    "os.environ[\"HF_HOME\"] = \"/mnt/hdd1/ljiahao/xianglin/cache/huggingface\""
   ]
  },
  {
   "cell_type": "code",
   "execution_count": 2,
   "metadata": {},
   "outputs": [],
   "source": [
    "raw_path = \"/mnt/hdd1/ljiahao/xianglin/llm-as-a-judge-attack/raw\"\n",
    "data_path = \"/mnt/hdd1/ljiahao/xianglin/llm-as-a-judge-attack/data\""
   ]
  },
  {
   "cell_type": "code",
   "execution_count": 12,
   "metadata": {},
   "outputs": [],
   "source": [
    "import json\n",
    "import os"
   ]
  },
  {
   "cell_type": "markdown",
   "metadata": {},
   "source": [
    "# MT Bench"
   ]
  },
  {
   "cell_type": "code",
   "execution_count": null,
   "metadata": {},
   "outputs": [],
   "source": [
    "!cd raw_path\n",
    "!git clone https://huggingface.co/spaces/lmsys/mt-bench"
   ]
  },
  {
   "cell_type": "code",
   "execution_count": null,
   "metadata": {},
   "outputs": [],
   "source": [
    "path = f\"{raw_path}/mt-bench/data/mt_bench/question.jsonl\"\n",
    "import json\n",
    "\n",
    "# load jsonl\n",
    "questions = []\n",
    "with open(path, \"r\") as f:\n",
    "    for line in f:\n",
    "        data = json.loads(line)\n",
    "        questions.append(data)\n",
    "questions[0]"
   ]
  },
  {
   "cell_type": "code",
   "execution_count": null,
   "metadata": {},
   "outputs": [],
   "source": [
    "# save metadata to data\n",
    "mt_bench_path = os.path.join(data_path, \"MTBench\")\n",
    "os.makedirs(mt_bench_path, exist_ok=True)\n",
    "save_path = os.path.join(mt_bench_path, \"metadata.json\")\n",
    "\n",
    "metadata = list()\n",
    "for question in questions:\n",
    "    metadata.append({\n",
    "        \"question_id\": question['question_id'],\n",
    "        \"instruction\": question['turns'][0],\n",
    "        \"original_category\": question['category'],\n",
    "    })\n",
    "\n",
    "# save metadata to data\n",
    "with open(save_path, \"w\") as f:\n",
    "    json.dump(metadata, f)\n",
    "metadata[0]"
   ]
  },
  {
   "cell_type": "code",
   "execution_count": null,
   "metadata": {},
   "outputs": [],
   "source": [
    "# load model answer\n",
    "answer_dir = os.path.join(raw_path, \"mt-bench/data/mt_bench/model_answer\")\n",
    "files = os.listdir(answer_dir)\n",
    "\n",
    "for file in files:\n",
    "    model_name = file.split(\".\")[0]\n",
    "\n",
    "    # load model answer\n",
    "    path = os.path.join(answer_dir, file)\n",
    "    answers = list()\n",
    "    with open(path, \"r\") as f:\n",
    "        for line in f:\n",
    "            data = json.loads(line)\n",
    "            answers.append(data)\n",
    "    \n",
    "    new_dataset = list()\n",
    "    for answer in answers:\n",
    "        for question in questions:\n",
    "            if answer['question_id'] == question['question_id']:\n",
    "                new_item = {\n",
    "                    \"instruction\": question['turns'][0],\n",
    "                    \"output\": answer['choices'][0]['turns'][0],\n",
    "                    \"original_category\": question['category'],\n",
    "                }\n",
    "                new_dataset.append(new_item)\n",
    "    \n",
    "    print(model_name)\n",
    "    print(new_dataset[0])\n",
    "    print(\"-\"*100)\n",
    "    # save new dataset\n",
    "    save_path = os.path.join(mt_bench_path, f\"{model_name}.json\")\n",
    "    with open(save_path, \"w\") as f:\n",
    "        json.dump(new_dataset, f)\n"
   ]
  },
  {
   "cell_type": "markdown",
   "metadata": {},
   "source": [
    "# AlpacaEval"
   ]
  },
  {
   "cell_type": "code",
   "execution_count": null,
   "metadata": {},
   "outputs": [],
   "source": [
    "!cd raw_path\n",
    "!git clone https://github.com/tatsu-lab/alpaca_eval.git"
   ]
  },
  {
   "cell_type": "code",
   "execution_count": 18,
   "metadata": {},
   "outputs": [],
   "source": [
    "path = os.path.join(raw_path, \"alpaca_eval\", \"results\", \"NullModel\", \"model_outputs.json\")\n",
    "\n",
    "# load jsonl\n",
    "with open(path, \"r\") as f:\n",
    "    data = json.load(f)\n"
   ]
  },
  {
   "cell_type": "code",
   "execution_count": null,
   "metadata": {},
   "outputs": [],
   "source": [
    "alpaca_path = os.path.join(data_path, \"AlpacaEval\")\n",
    "os.makedirs(alpaca_path, exist_ok=True)\n",
    "\n",
    "save_path = os.path.join(alpaca_path, \"metadata.json\")\n",
    "metadata = list()\n",
    "for item in data:\n",
    "    metadata.append({\n",
    "        \"instruction\": item[\"instruction\"],\n",
    "        \"dataset\": item[\"dataset\"]\n",
    "    })\n",
    "\n",
    "with open(save_path, \"w\") as f:\n",
    "    json.dump(metadata, f)\n",
    "\n",
    "# Show example element\n",
    "metadata[0]"
   ]
  },
  {
   "cell_type": "code",
   "execution_count": null,
   "metadata": {},
   "outputs": [],
   "source": [
    "result_dir = os.path.join(raw_path, \"alpaca_eval\", \"results\")\n",
    "dirs = os.listdir(result_dir)\n",
    "\n",
    "for dir in dirs:\n",
    "    path = os.path.join(result_dir, dir, \"model_outputs.json\")\n",
    "    with open(path, \"r\") as f:\n",
    "        data = json.load(f)\n",
    "    new_dataset = list()\n",
    "    for item in data:\n",
    "        new_dataset.append({\n",
    "            \"instruction\": item[\"instruction\"],\n",
    "            \"output\": item[\"output\"]\n",
    "        })\n",
    "    print(dir)\n",
    "    print(new_dataset[0])\n",
    "    print(\"-\"*100)\n",
    "    \n",
    "    save_path = os.path.join(alpaca_path, f\"{dir}.json\")\n",
    "    with open(save_path, \"w\") as f:\n",
    "        json.dump(new_dataset, f)"
   ]
  },
  {
   "cell_type": "markdown",
   "metadata": {},
   "source": [
    "# ArenaHard 2.0"
   ]
  },
  {
   "cell_type": "code",
   "execution_count": null,
   "metadata": {},
   "outputs": [],
   "source": [
    "! git clone https://github.com/lmarena/arena-hard-auto.git"
   ]
  },
  {
   "cell_type": "code",
   "execution_count": null,
   "metadata": {},
   "outputs": [],
   "source": [
    "import json\n",
    "import os\n",
    "\n",
    "save_dir = os.path.join(raw_path, \"arena-hard-auto\", \"data\", \"arena-hard-v2.0\")\n",
    "\n",
    "questions = list()\n",
    "with open(os.path.join(save_dir, \"question.jsonl\"), \"r\") as f:\n",
    "    for line in f:\n",
    "        data = json.loads(line)\n",
    "        questions.append(data)\n",
    "\n",
    "# Example element\n",
    "questions[0]"
   ]
  },
  {
   "cell_type": "code",
   "execution_count": null,
   "metadata": {},
   "outputs": [],
   "source": [
    "# save metadata\n",
    "arena_hard_path = os.path.join(data_path, \"ArenaHard\")\n",
    "os.makedirs(arena_hard_path, exist_ok=True)\n",
    "\n",
    "save_path = os.path.join(arena_hard_path, \"metadata.json\")\n",
    "metadata = list()\n",
    "for question in questions:\n",
    "    metadata.append({\n",
    "        \"instruction\": question[\"prompt\"],\n",
    "        \"original_category\": question[\"category\"],\n",
    "        \"original_subcategory\": question[\"subcategory\"],\n",
    "        \"uid\": question[\"uid\"],\n",
    "    })\n",
    "\n",
    "with open(save_path, \"w\") as f:\n",
    "    json.dump(metadata, f)\n",
    "\n",
    "# Example element\n",
    "print(\"Example element:\")\n",
    "metadata[0]\n",
    "\n",
    "\n"
   ]
  },
  {
   "cell_type": "code",
   "execution_count": null,
   "metadata": {},
   "outputs": [],
   "source": [
    "answers_dir = os.path.join(raw_path, \"arena-hard-auto\", \"data\", \"arena-hard-v2.0\", \"model_answer\")\n",
    "\n",
    "files = os.listdir(answers_dir)\n",
    "files\n",
    "    "
   ]
  },
  {
   "cell_type": "code",
   "execution_count": null,
   "metadata": {},
   "outputs": [],
   "source": [
    "answers_dict = dict()\n",
    "\n",
    "for file in files:\n",
    "    model_name = file[:-6]\n",
    "    path = os.path.join(answers_dir, file)\n",
    "\n",
    "    answers = list()\n",
    "    with open(path, \"r\") as f:\n",
    "        for line in f:\n",
    "            data = json.loads(line)\n",
    "            answers.append(data)\n",
    "    \n",
    "    # show answers example\n",
    "    print(answers[0])\n",
    "    \n",
    "    answers_dict[model_name] = answers"
   ]
  },
  {
   "cell_type": "code",
   "execution_count": null,
   "metadata": {},
   "outputs": [],
   "source": [
    "# show answers example\n",
    "answers_dict[\"o3-mini-2025-01-31\"][0]"
   ]
  },
  {
   "cell_type": "code",
   "execution_count": null,
   "metadata": {},
   "outputs": [],
   "source": [
    "# zip with uid\n",
    "uid_to_question = dict()\n",
    "for item in metadata:\n",
    "    uid_to_question[item[\"uid\"]] = item[\"instruction\"]\n",
    "\n",
    "for file in files:\n",
    "    model_name = file[:-6]\n",
    "    answers = answers_dict[model_name]\n",
    "    print(model_name)\n",
    "    print(len(answers))\n",
    "    \n",
    "    new_dataset = list()\n",
    "    for answer in answers:\n",
    "        item = {\n",
    "            \"instruction\": uid_to_question[answer[\"uid\"]],\n",
    "            \"output\": answer['messages'][-1]['content']['answer']\n",
    "        }\n",
    "        new_dataset.append(item)\n",
    "    \n",
    "    print(\"Example Element:\")\n",
    "    print(new_dataset[0])\n",
    "        \n",
    "    save_path = os.path.join(arena_hard_path, f\"{model_name}.json\")\n",
    "    with open(save_path, \"w\") as f:\n",
    "        json.dump(new_dataset, f)\n",
    "\n"
   ]
  }
 ],
 "metadata": {
  "kernelspec": {
   "display_name": "llm",
   "language": "python",
   "name": "python3"
  },
  "language_info": {
   "codemirror_mode": {
    "name": "ipython",
    "version": 3
   },
   "file_extension": ".py",
   "mimetype": "text/x-python",
   "name": "python",
   "nbconvert_exporter": "python",
   "pygments_lexer": "ipython3",
   "version": "3.10.12"
  }
 },
 "nbformat": 4,
 "nbformat_minor": 2
}
