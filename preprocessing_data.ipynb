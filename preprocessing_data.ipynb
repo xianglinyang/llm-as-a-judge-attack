{
 "cells": [
  {
   "cell_type": "code",
   "execution_count": 1,
   "metadata": {},
   "outputs": [],
   "source": [
    "import os\n",
    "os.environ[\"HF_HOME\"] = \"/mnt/hdd1/ljiahao/huggingface\""
   ]
  },
  {
   "cell_type": "markdown",
   "metadata": {},
   "source": [
    "# MT Bench"
   ]
  },
  {
   "cell_type": "code",
   "execution_count": null,
   "metadata": {},
   "outputs": [],
   "source": [
    "!cd /mnt/hdd1/ljiahao/xianglin/llm-as-a-judge-attack/raw\n",
    "!git clone https://huggingface.co/spaces/lmsys/mt-bench"
   ]
  },
  {
   "cell_type": "code",
   "execution_count": 2,
   "metadata": {},
   "outputs": [],
   "source": [
    "path = \"/mnt/hdd1/ljiahao/xianglin/llm-as-a-judge-attack/raw/mt-bench/data/mt_bench/question.jsonl\"\n",
    "import json\n",
    "\n",
    "# load jsonl\n",
    "questions = []\n",
    "with open(path, \"r\") as f:\n",
    "    for line in f:\n",
    "        data = json.loads(line)\n",
    "        questions.append(data)\n",
    "        "
   ]
  },
  {
   "cell_type": "code",
   "execution_count": 5,
   "metadata": {},
   "outputs": [],
   "source": [
    "# save metadata to data\n",
    "save_path = \"/mnt/hdd1/ljiahao/xianglin/llm-as-a-judge-attack/data/MTBench/metadata.json\"\n",
    "\n",
    "metadata = list()\n",
    "for question in questions:\n",
    "    metadata.append({\n",
    "        \"instruction\": question\n",
    "    })\n",
    "\n",
    "# save metadata to data\n",
    "with open(save_path, \"w\") as f:\n",
    "    json.dump(metadata, f)"
   ]
  },
  {
   "cell_type": "code",
   "execution_count": 7,
   "metadata": {},
   "outputs": [],
   "source": [
    "# load model answer\n",
    "answer_dir = \"/mnt/hdd1/ljiahao/xianglin/llm-as-a-judge-attack/raw/mt-bench/data/mt_bench/model_answer\"\n",
    "files = os.listdir(answer_dir)\n",
    "\n",
    "for file in files:\n",
    "    model_name = file.split(\".\")[0]\n",
    "\n",
    "    # load model answer\n",
    "    path = os.path.join(answer_dir, file)\n",
    "    answers = list()\n",
    "    with open(path, \"r\") as f:\n",
    "        for line in f:\n",
    "            data = json.loads(line)\n",
    "            answers.append(data)\n",
    "    \n",
    "    new_dataset = list()\n",
    "    for question, answer in zip(questions, answers):\n",
    "        new_dataset.append({\n",
    "            \"instruction\": question,\n",
    "            \"output\": answer\n",
    "        })\n",
    "\n",
    "    # save new dataset\n",
    "    save_path = os.path.join(\"/mnt/hdd1/ljiahao/xianglin/llm-as-a-judge-attack/data/MTBench\", f\"{model_name}.json\")\n",
    "    with open(save_path, \"w\") as f:\n",
    "        json.dump(new_dataset, f)\n"
   ]
  },
  {
   "cell_type": "markdown",
   "metadata": {},
   "source": [
    "# AlpacaEval"
   ]
  },
  {
   "cell_type": "code",
   "execution_count": 8,
   "metadata": {},
   "outputs": [
    {
     "name": "stdout",
     "output_type": "stream",
     "text": [
      "Cloning into 'alpaca_eval'...\n",
      "remote: Enumerating objects: 236, done.\u001b[K\n",
      "remote: Counting objects: 100% (24/24), done.\u001b[K\n",
      "remote: Compressing objects: 100% (24/24), done.\u001b[K\n",
      "remote: Total 236 (delta 9), reused 0 (delta 0), pack-reused 212 (from 1)\u001b[K\n",
      "Receiving objects: 100% (236/236), 3.37 MiB | 6.61 MiB/s, done.\n",
      "Resolving deltas: 100% (114/114), done.\n"
     ]
    }
   ],
   "source": [
    "!cd /mnt/hdd1/ljiahao/xianglin/llm-as-a-judge-attack/raw\n",
    "!git clonehttps://github.com/tatsu-lab/alpaca_eval.git"
   ]
  },
  {
   "cell_type": "code",
   "execution_count": 20,
   "metadata": {},
   "outputs": [],
   "source": [
    "path = \"/mnt/hdd1/ljiahao/xianglin/llm-as-a-judge-attack/raw/alpaca_eval/results/NullModel/model_outputs.json\"\n",
    "\n",
    "import json\n",
    "\n",
    "# load jsonl\n",
    "with open(path, \"r\") as f:\n",
    "    data = json.load(f)\n"
   ]
  },
  {
   "cell_type": "code",
   "execution_count": 21,
   "metadata": {},
   "outputs": [],
   "source": [
    "metadata = list()\n",
    "for item in data:\n",
    "    metadata.append({\n",
    "        \"instruction\": item[\"instruction\"],\n",
    "        \"dataset\": item[\"dataset\"]\n",
    "    })\n",
    "with open(\"/mnt/hdd1/ljiahao/xianglin/llm-as-a-judge-attack/data/AlpacaEval/metadata.json\", \"w\") as f:\n",
    "    json.dump(metadata, f)\n",
    "\n"
   ]
  },
  {
   "cell_type": "code",
   "execution_count": 23,
   "metadata": {},
   "outputs": [],
   "source": [
    "result_dir = \"/mnt/hdd1/ljiahao/xianglin/llm-as-a-judge-attack/raw/alpaca_eval/results/\"\n",
    "\n",
    "dirs = os.listdir(result_dir)\n",
    "\n",
    "for dir in dirs:\n",
    "    path = os.path.join(result_dir, dir, \"model_outputs.json\")\n",
    "    with open(path, \"r\") as f:\n",
    "        data = json.load(f)\n",
    "    new_dataset = list()\n",
    "    for item in data:\n",
    "        new_dataset.append({\n",
    "            \"instruction\": item[\"instruction\"],\n",
    "            \"output\": item[\"output\"]\n",
    "        })\n",
    "    save_path = os.path.join(\"/mnt/hdd1/ljiahao/xianglin/llm-as-a-judge-attack/data/AlpacaEval\", f\"{dir}.json\")\n",
    "    with open(save_path, \"w\") as f:\n",
    "        json.dump(new_dataset, f)"
   ]
  },
  {
   "cell_type": "markdown",
   "metadata": {},
   "source": [
    "# ArenaHard 2.0"
   ]
  },
  {
   "cell_type": "code",
   "execution_count": null,
   "metadata": {},
   "outputs": [],
   "source": [
    "! https://github.com/lmarena/arena-hard-auto.git"
   ]
  },
  {
   "cell_type": "code",
   "execution_count": 25,
   "metadata": {},
   "outputs": [],
   "source": [
    "save_dir = \"/mnt/hdd1/ljiahao/xianglin/llm-as-a-judge-attack/raw/arena-hard-auto/data/arena-hard-v2.0\"\n",
    "\n",
    "questions = list()\n",
    "with open(os.path.join(save_dir, \"question.jsonl\"), \"r\") as f:\n",
    "    for line in f:\n",
    "        data = json.loads(line)\n",
    "        questions.append(data)\n"
   ]
  },
  {
   "cell_type": "code",
   "execution_count": 26,
   "metadata": {},
   "outputs": [],
   "source": [
    "metadata = list()\n",
    "for question in questions:\n",
    "    metadata.append({\n",
    "        \"instruction\": question\n",
    "    })\n",
    "\n",
    "with open(\"/mnt/hdd1/ljiahao/xianglin/llm-as-a-judge-attack/data/ArenaHard/metadata.json\", \"w\") as f:\n",
    "    json.dump(metadata, f)\n"
   ]
  },
  {
   "cell_type": "code",
   "execution_count": 30,
   "metadata": {},
   "outputs": [],
   "source": [
    "answers_dir = \"/mnt/hdd1/ljiahao/xianglin/llm-as-a-judge-attack/raw/arena-hard-auto/data/arena-hard-v2.0/model_answer\"\n",
    "\n",
    "files = os.listdir(answers_dir)\n",
    "\n",
    "for file in files:\n",
    "    model_name = file.split(\".\")[0]\n",
    "    path = os.path.join(answers_dir, file)\n",
    "\n",
    "    answers = list()\n",
    "    with open(path, \"r\") as f:\n",
    "        for line in f:\n",
    "            data = json.loads(line)\n",
    "            answers.append(data)\n",
    "\n",
    "    new_dataset = list()\n",
    "    for question, answer in zip(questions, answers):\n",
    "        new_dataset.append({\n",
    "            \"instruction\": question,\n",
    "            \"output\": answer\n",
    "        })\n",
    "    save_path = os.path.join(\"/mnt/hdd1/ljiahao/xianglin/llm-as-a-judge-attack/data/ArenaHard\", f\"{model_name}.json\")\n",
    "    with open(save_path, \"w\") as f:\n",
    "        json.dump(new_dataset, f)"
   ]
  }
 ],
 "metadata": {
  "kernelspec": {
   "display_name": "llm",
   "language": "python",
   "name": "python3"
  },
  "language_info": {
   "codemirror_mode": {
    "name": "ipython",
    "version": 3
   },
   "file_extension": ".py",
   "mimetype": "text/x-python",
   "name": "python",
   "nbconvert_exporter": "python",
   "pygments_lexer": "ipython3",
   "version": "3.10.12"
  }
 },
 "nbformat": 4,
 "nbformat_minor": 2
}
